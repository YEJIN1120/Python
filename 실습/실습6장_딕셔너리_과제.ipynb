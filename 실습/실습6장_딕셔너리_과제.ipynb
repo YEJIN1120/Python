{
 "cells": [
  {
   "cell_type": "code",
   "execution_count": 9,
   "metadata": {},
   "outputs": [
    {
     "name": "stdout",
     "output_type": "stream",
     "text": [
      "<class 'dict'>\n",
      "빈 딕셔너리\n",
      "abc\n",
      "busan\n",
      "yellow\n"
     ]
    }
   ],
   "source": [
    "# 파이썬 딕셔너리\n",
    "person = {\"name\": \"John\", \"age\": 30}\n",
    "d = {}\n",
    "print(type(d))\n",
    "if d: \n",
    "  print(\"non-empty\")\n",
    "else:\n",
    "  print(\"빈 딕셔너리\")\n",
    "\n",
    "lst = ['abc', 'good', 'nice']\n",
    "print(lst[0])   #0은 인덱스   #리스트나 튜플은 가능하나 딕셔너리에는 사용안됨\n",
    "# print(person[0])   #0은 인덱스로 사용하여 첫번째 key:값을 가져오려고 함\n",
    "\n",
    "person[\"city\"]=\"busan\"   # city는 busan을 추가 (키 값 추가)\n",
    "person['color']='yellow'   # color는 yellow를 추가 (키 값 추가)\n",
    "print(person)   # 전체 출력\n",
    "# print(person['city'])   # city만 출력\n",
    "print(person['color'])"
   ]
  },
  {
   "cell_type": "code",
   "execution_count": 14,
   "metadata": {},
   "outputs": [
    {
     "name": "stdout",
     "output_type": "stream",
     "text": [
      "{'id': 1, 'sname': 'hong', 'coding': 'java'}\n",
      "{'id': 1, 'sname': 'hong'}\n",
      "None\n"
     ]
    }
   ],
   "source": [
    "student={}   #빈 딕셔너리\n",
    "student['id']=1\n",
    "student['sname']='hong'\n",
    "student['coding']='java'   #키 값 3개를 넣음\n",
    "print(student)\n",
    "del student['coding']   #키가 coding인 값이 삭제됨\n",
    "print(student)\n",
    "#print(student['name'])\n",
    "print(student.get('name'))"
   ]
  },
  {
   "cell_type": "code",
   "execution_count": 18,
   "metadata": {},
   "outputs": [
    {
     "name": "stdout",
     "output_type": "stream",
     "text": [
      "<class 'dict_items'>\n",
      "key = id, value = 1\n",
      "key = sname, value = hong\n",
      "key = coding, value = java\n",
      "<class 'dict_keys'>\n",
      "key = id\n",
      "key = sname\n",
      "key = coding\n",
      "값 = 1\n",
      "값 = hong\n",
      "값 = java\n",
      "정렬::key = coding\n",
      "정렬::key = id\n",
      "정렬::key = sname\n",
      "{'id': 1, 'sname': 'hong', 'coding': 'java', 'skill': 'java'}\n",
      "집합::value = 1\n",
      "집합::value = hong\n",
      "집합::value = java\n"
     ]
    }
   ],
   "source": [
    "student={}\n",
    "student['id']=1\n",
    "student['sname']='hong'\n",
    "student['coding']='java'\n",
    "\n",
    "print(type(student.items()))\n",
    "\n",
    "for k,v in student.items():   ##key, value 쌍을 반환하는 함수\n",
    "    print(\"key = {}, value = {}\".format(k, v))\n",
    "\n",
    "print(type(student.keys()))\n",
    "\n",
    "for k in student.keys():\n",
    "    print(\"key = {}\".format(k))\n",
    "    \n",
    "for k in student.values():\n",
    "    print(\"값 = {}\".format(k))\n",
    "    \n",
    "for k in sorted(student.keys()):\n",
    "    print(\"정렬::key = {}\".format(k))  \n",
    "    \n",
    "student['skill']='java'\n",
    "print(student)\n",
    "for v in set(student.values()):   #set은 집합, 중복 제거\n",
    "    print(\"집합::value = {}\".format(v))\n",
    "    "
   ]
  },
  {
   "cell_type": "markdown",
   "metadata": {},
   "source": [
    "딕셔너리들의 리스트 "
   ]
  },
  {
   "cell_type": "code",
   "execution_count": 19,
   "metadata": {},
   "outputs": [
    {
     "name": "stdout",
     "output_type": "stream",
     "text": [
      "학생 = {'id': 1, 'sname': 'hong', 'coding': 'java'}\n",
      "학생 = {'id': 2, 'sname': '김', 'coding': 'javascript'}\n",
      "학생 = {'id': 3, 'sname': 'hong', 'coding': 'java'}\n",
      "[{'id': 1, 'sname': 'hong', 'coding': 'java'}, {'id': 2, 'sname': '김', 'coding': 'javascript'}, {'id': 3, 'sname': 'hong', 'coding': 'java'}, {'id': 4, 'sname': 'lee', 'coding': 'python'}, {'id': 5, 'sname': 'lee', 'coding': 'python'}, {'id': 6, 'sname': 'lee', 'coding': 'python'}, {'id': 7, 'sname': 'lee', 'coding': 'python'}]\n"
     ]
    }
   ],
   "source": [
    "student0 = {'id':1, 'sname':'hong', 'coding':'java'}\n",
    "student1 = {'id':2, 'sname':'김', 'coding':'javascript'}\n",
    "student2 = {'id':3, 'sname':'hong', 'coding':'java'}\n",
    "students = [student0,student1,student2]\n",
    "for student in students:\n",
    "    print(f\"학생 = {student}\")\n",
    "    \n",
    "for id in range(4,8):\n",
    "    new_student = {'id':id, 'sname': 'lee', 'coding':'python'}\n",
    "    students.append(new_student)\n",
    "    \n",
    "print(students)\n",
    "\n",
    "for student in students[1:3:-1]:\n",
    "    if student['sname']=='hong':\n",
    "        student['coding'] = 'python'\n",
    "    print(\"학생 = {}\".format(student))"
   ]
  },
  {
   "cell_type": "markdown",
   "metadata": {},
   "source": [
    "리스트를 포함하는 딕셔너리들의 리스트 "
   ]
  },
  {
   "cell_type": "code",
   "execution_count": 8,
   "metadata": {},
   "outputs": [
    {
     "name": "stdout",
     "output_type": "stream",
     "text": [
      "학생 = {'id': 1, 'sname': 'hong', 'coding': ['java', 'c', 'python']}\n",
      "학생 = {'id': 2, 'sname': '김', 'coding': ['C++', 'c']}\n",
      "학생 = {'id': 3, 'sname': 'hong', 'coding': ['go', 'C++', 'javascript']}\n",
      "[{'id': 1, 'sname': 'hong', 'coding': ['java', 'c', 'python']}, {'id': 2, 'sname': '김', 'coding': ['C++', 'c']}, {'id': 3, 'sname': 'hong', 'coding': ['go', 'C++', 'javascript']}, {'id': 4, 'sname': 'lee', 'coding': ['java', 'javascriptc', 'typescript']}, {'id': 5, 'sname': 'lee', 'coding': ['java', 'javascriptc', 'typescript']}, {'id': 6, 'sname': 'lee', 'coding': ['java', 'javascriptc', 'typescript']}, {'id': 7, 'sname': 'lee', 'coding': ['java', 'javascriptc', 'typescript']}]\n",
      "코딩 언어 = java\n",
      "코딩 언어 = c\n",
      "코딩 언어 = python\n",
      "코딩 언어 = C++\n",
      "코딩 언어 = c\n",
      "코딩 언어 = go\n",
      "코딩 언어 = C++\n",
      "코딩 언어 = javascript\n",
      "코딩 언어 = java\n",
      "코딩 언어 = javascriptc\n",
      "코딩 언어 = typescript\n",
      "코딩 언어 = java\n",
      "코딩 언어 = javascriptc\n",
      "코딩 언어 = typescript\n",
      "코딩 언어 = java\n",
      "코딩 언어 = javascriptc\n",
      "코딩 언어 = typescript\n",
      "코딩 언어 = java\n",
      "코딩 언어 = javascriptc\n",
      "코딩 언어 = typescript\n"
     ]
    }
   ],
   "source": [
    "##교재 166p\n",
    "student0 = {'id':1, 'sname':'hong', 'coding':['java','c','python']}\n",
    "student1 = {'id':2, 'sname':'김', 'coding':['C++','c']}\n",
    "student2 = {'id':3, 'sname':'hong', 'coding':['go','C++','javascript']}\n",
    "student3 = {'id':4, 'sname':'song', 'coding':['java','c','python']}\n",
    "student4 = {'id':5, 'sname':'기', 'coding':['C++','c']}\n",
    "student5 = {'id':6, 'sname':'이', 'coding':['go','C++','javascript']}\n",
    "\n",
    "students = [student0,student1,student2,student3,student4,student5]\n",
    "# 리스트의 딕셔너리 출력: for 문사용 > 역순 출력 > 0,2,4만 출력\n",
    "\n",
    "    \n",
    "for id in range(7,10):\n",
    "    new_student = {'id':id, 'sname': 'lee', 'coding':['java','javascriptc','typescript']}\n",
    "    students.append(new_student)\n",
    "    \n",
    "print(students)\n",
    "# 리스트이 딕셔너리 객체에 대하여 items()사용하여 key, value을 구한다.\n",
    "##key가 coding이면 각 value을 출력한다\n",
    "\n",
    "\n"
   ]
  },
  {
   "cell_type": "markdown",
   "metadata": {},
   "source": [
    "Nested dictionary(중첩 딕셔너리)"
   ]
  },
  {
   "cell_type": "code",
   "execution_count": 11,
   "metadata": {},
   "outputs": [
    {
     "name": "stdout",
     "output_type": "stream",
     "text": [
      "user1의 정보: {'name': 'John', 'age': 30, 'city': 'New York'}\n",
      "user2의 이름: Alice\n",
      "user1의 이름: John, 도시: New York\n",
      "\n",
      "key = name, value = John\n",
      "key = age, value = 30\n",
      "key = city, value = New York\n",
      "user2의 이름: Alice, 도시: Los Angeles\n",
      "\n",
      "key = name, value = Alice\n",
      "key = age, value = 25\n",
      "key = city, value = Los Angeles\n",
      "user3의 이름: Bob, 도시: Chicago\n",
      "\n",
      "key = name, value = Bob\n",
      "key = age, value = 35\n",
      "key = city, value = Chicago\n"
     ]
    }
   ],
   "source": [
    "# 중첩 딕셔너리 예제: 여러 사용자의 정보\n",
    "users = {\n",
    "    \"user1\": {\n",
    "        \"name\": \"John\",\n",
    "        \"age\": 30,\n",
    "        \"city\": \"New York\"\n",
    "    },\n",
    "    \"user2\": {\n",
    "        \"name\": \"Alice\",\n",
    "        \"age\": 25,\n",
    "        \"city\": \"Los Angeles\"\n",
    "    },\n",
    "    \"user3\": {\n",
    "        \"name\": \"Bob\",\n",
    "        \"age\": 35,\n",
    "        \"city\": \"Chicago\"\n",
    "    }\n",
    "}\n",
    "\n",
    "# 특정 사용자 정보 접근\n",
    "print(\"user1의 정보:\", users[\"user1\"])\n",
    "print(\"user2의 이름:\", users[\"user2\"][\"name\"])\n",
    "\n",
    "# 모든 사용자의 key, value에 대하여 \"user2\"의 \"city\"를 찾는 코드를 작성한다\n"
   ]
  }
 ],
 "metadata": {
  "kernelspec": {
   "display_name": "Python 3",
   "language": "python",
   "name": "python3"
  },
  "language_info": {
   "codemirror_mode": {
    "name": "ipython",
    "version": 3
   },
   "file_extension": ".py",
   "mimetype": "text/x-python",
   "name": "python",
   "nbconvert_exporter": "python",
   "pygments_lexer": "ipython3",
   "version": "3.9.13"
  }
 },
 "nbformat": 4,
 "nbformat_minor": 2
}
