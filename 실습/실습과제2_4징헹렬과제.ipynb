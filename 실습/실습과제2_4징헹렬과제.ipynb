{
 "cells": [
  {
   "cell_type": "code",
   "execution_count": 14,
   "metadata": {},
   "outputs": [
    {
     "name": "stdout",
     "output_type": "stream",
     "text": [
      "['k9', 'genesis', 'sonata', 'canival']\n",
      "차는 k9\n",
      "k9\n",
      "차는 genesis\n",
      "genesis\n",
      "차는 sonata\n",
      "sonata\n",
      "차는 canival\n",
      "canival\n"
     ]
    }
   ],
   "source": [
    "lst = ['k9', 'genesis', 'sonata', 'canival']\n",
    "print(lst)   #배열 전체 출력\n",
    "for car in lst:   #하나씩 출력(loop block)\n",
    "  print(f\"차는 {car}\")\n",
    "  print(car)"
   ]
  },
  {
   "cell_type": "code",
   "execution_count": 1,
   "metadata": {},
   "outputs": [
    {
     "name": "stdout",
     "output_type": "stream",
     "text": [
      "0\n",
      "1\n",
      "2\n",
      "3\n",
      "4\n",
      "<class 'range'>\n"
     ]
    }
   ],
   "source": [
    "for value in range(5):   #0부터 5-1까지 출력\n",
    "  print(value)\n",
    "\n",
    "rng = range(1,4)\n",
    "print(type(rng))\n",
    "numbers = list(range(1,6))"
   ]
  },
  {
   "cell_type": "code",
   "execution_count": 2,
   "metadata": {},
   "outputs": [
    {
     "name": "stdout",
     "output_type": "stream",
     "text": [
      "[2, 4, 6, 8, 10]\n"
     ]
    }
   ],
   "source": [
    "num_list = list(range(2,11,2))\n",
    "print(num_list)"
   ]
  },
  {
   "cell_type": "code",
   "execution_count": 6,
   "metadata": {},
   "outputs": [
    {
     "name": "stdout",
     "output_type": "stream",
     "text": [
      "[1, 9, 25, 49, 81]\n",
      "[1, 25]\n",
      "1\n",
      "9\n",
      "25\n"
     ]
    }
   ],
   "source": [
    "lst = [1,2,3,4]\n",
    "squares = [value**2 for value in range(1,11,2)]\n",
    "print(squares)\n",
    "print(squares[0:4:2])   #2는 step: 증가치\n",
    "\n",
    "for v in squares[:3]:\n",
    "  print(v)"
   ]
  },
  {
   "cell_type": "code",
   "execution_count": 18,
   "metadata": {},
   "outputs": [
    {
     "name": "stdout",
     "output_type": "stream",
     "text": [
      "<class 'tuple'>\n",
      "\n",
      "튜플 t: 4\n",
      "i = 0, value = bad\n",
      "i = 1, value = 11\n",
      "i = 2, value = ok\n"
     ]
    }
   ],
   "source": [
    "# 튜플 (immutable)\n",
    "t = 1, 2, 3   #튜플은 괄호가 없어도 됨\n",
    "# t[0] = 10  # 에러: 튜플은 불변(immutable)하기 때문에 요소를 변경할 수 없음\n",
    "print(type(t))\n",
    "t = 4,5,6,7\n",
    "print(\"\\n튜플 t:\", t[0])  # (1, 2, 3)\n",
    "\n",
    "lst = [10,20,30]   #list는 []가 있어야 됨\n",
    "lst = ['good', 'nice', 'ok']\n",
    "lst[0] = 'bad'   #list 첫번째 요소를 변경\n",
    "lst[1] = 11   #list는 mutable\n",
    "for i, value in enumerate(lst):\n",
    "  print (f\"i = {i}, value = {value}\")"
   ]
  },
  {
   "cell_type": "code",
   "execution_count": 50,
   "metadata": {},
   "outputs": [
    {
     "name": "stdout",
     "output_type": "stream",
     "text": [
      "\n",
      "리스트 슬라이싱:\n",
      "[[6, 7, 8], [3, 4, 5], [0, 1, 2]]\n",
      "[[2, 1, 0], [5, 4, 3], [8, 7, 6]]\n"
     ]
    },
    {
     "ename": "TypeError",
     "evalue": "list indices must be integers or slices, not tuple",
     "output_type": "error",
     "traceback": [
      "\u001b[1;31m---------------------------------------------------------------------------\u001b[0m",
      "\u001b[1;31mTypeError\u001b[0m                                 Traceback (most recent call last)",
      "Cell \u001b[1;32mIn[50], line 14\u001b[0m\n\u001b[0;32m      9\u001b[0m rmatrix \u001b[38;5;241m=\u001b[39m [row[::\u001b[38;5;241m-\u001b[39m\u001b[38;5;241m1\u001b[39m] \u001b[38;5;28;01mfor\u001b[39;00m row \u001b[38;5;129;01min\u001b[39;00m matrix]\n\u001b[0;32m     10\u001b[0m \u001b[38;5;28mprint\u001b[39m(rmatrix)\n\u001b[1;32m---> 14\u001b[0m \u001b[38;5;28mprint\u001b[39m(\u001b[43mmatrix\u001b[49m\u001b[43m[\u001b[49m\u001b[43m:\u001b[49m\u001b[38;5;241;43m1\u001b[39;49m\u001b[43m,\u001b[49m\u001b[43m \u001b[49m\u001b[43m:\u001b[49m\u001b[38;5;241;43m1\u001b[39;49m\u001b[43m]\u001b[49m)\u001b[38;5;66;03m##을 구현하는 리스트 슬라이싱\u001b[39;00m\n\u001b[0;32m     15\u001b[0m \u001b[38;5;66;03m# 첫 번째 행에서 첫 번째 열만 슬라이싱 (== matrix[:1, :1])\u001b[39;00m\n\u001b[0;32m     16\u001b[0m \n\u001b[0;32m     17\u001b[0m \u001b[38;5;66;03m# 잘못된 슬라이싱 시도 - 튜플로 인식되는 경우\u001b[39;00m\n\u001b[0;32m     18\u001b[0m \u001b[38;5;28;01mtry\u001b[39;00m:\n",
      "\u001b[1;31mTypeError\u001b[0m: list indices must be integers or slices, not tuple"
     ]
    }
   ],
   "source": [
    "# 슬라이싱 예제 - 리스트는 [::] 형식만 지원\n",
    "matrix = [[0, 1, 2], [3, 4, 5], [6, 7, 8]]\n",
    "\n",
    "# 리스트 슬라이싱 (정상)\n",
    "print(\"\\n리스트 슬라이싱:\")\n",
    "#1 행을 역순으로 출력\n",
    "print(matrix[::-1])\n",
    "#2 열을 역순으로 출력\n",
    "rmatrix = [row[::-1] for row in matrix]\n",
    "print(rmatrix)\n",
    "\n",
    "\n",
    "\n",
    "print(matrix[:1, :1])##을 구현하는 리스트 슬라이싱\n",
    "# 첫 번째 행에서 첫 번째 열만 슬라이싱 (== matrix[:1, :1])\n",
    "\n",
    "# 잘못된 슬라이싱 시도 - 튜플로 인식되는 경우\n",
    "try:\n",
    "    print(matrix[::-1,::-1])  # 잘못된 사용, TypeError 발생\n",
    "except TypeError as e:\n",
    "    print(\"\\n에러 발생:\", e)"
   ]
  },
  {
   "cell_type": "code",
   "execution_count": 45,
   "metadata": {},
   "outputs": [
    {
     "name": "stdout",
     "output_type": "stream",
     "text": [
      "원본 행렬: [[1, 2, 3, 4, 5], [6, 7, 8, 9, 10], [11, 12, 13, 14, 15]]\n",
      "[1, 2, 3, 4, 5]\n",
      "[6, 7, 8, 9, 10]\n",
      "[11, 12, 13, 14, 15]\n",
      "\n",
      "전치 행렬: {transposeMatirx}\n",
      "[1, 2, 3, 4, 5]\n",
      "[6, 7, 8, 9, 10]\n",
      "[11, 12, 13, 14, 15]\n"
     ]
    }
   ],
   "source": [
    "    # 3x5 행렬 생성\n",
    "# matrix = [\n",
    "#     [1, 2, 3, 4, 5],\n",
    "#     [6, 7, 8, 9, 10],\n",
    "#     [11, 12, 13, 14, 15]\n",
    "# ]\n",
    "import random\n",
    "matirx = [[random.randrange(1, 11) for _ in range(5)] for _ in range(3)]\n",
    "\n",
    "print(f\"원본 행렬: {matrix}\")\n",
    "for row in matrix:\n",
    "  print(row)\n",
    "transposeMatrix = [[row[col] for row in matrix] for col in range(len(matrix[0]))]\n",
    "\n",
    "    \n",
    "# 전치 행렬 (행과 열을 뒤바꿈)\n",
    "print(\"\\n전치 행렬: {transposeMatirx}\")\n",
    "for row in matrix:\n",
    "  print(row)\n"
   ]
  },
  {
   "cell_type": "code",
   "execution_count": 7,
   "metadata": {},
   "outputs": [
    {
     "name": "stdout",
     "output_type": "stream",
     "text": [
      "원본 리스트 l: [1, 2, 3, 4]\n",
      "참조한 리스트 la: [1, 2, 3, 4]\n",
      "복사된 리스트 lb: [1, 2, 3]\n",
      "\n",
      "튜플 t: (1, 2, 3)\n",
      "\n",
      "리스트 슬라이싱:\n",
      "\n",
      "에러 발생: list indices must be integers or slices, not tuple\n",
      "[5, 2]\n",
      "<class 'int'>\n",
      "<class 'int'>\n",
      "array('i', [1, 2, 3])\n",
      "5\n",
      "10\n",
      "a= 22, b = 11\n",
      "i: 0, v: 1\n",
      "i: 1, v: 2\n",
      "i: 2, v: 3\n",
      "원본 행렬:\n",
      "\n",
      "전치 행렬:\n"
     ]
    }
   ],
   "source": [
    "# ***리스트 복사하기 (얕은 복사) - 함수의 매개변수로 전달 : 리스트를 전달\n",
    "l = [1, 2, 3]\n",
    "la = l  # la는 l의 참조, 같은 메모리 주소를 가리킴\n",
    "lb = l[:]  # lb는 l의 복사본, 서로 다른 메모리 주소   #l이 바뀌더라도 lb는 바뀌지 않음\n",
    "\n",
    "# 리스트에 값 추가하기\n",
    "l.append(4)\n",
    "\n",
    "print(\"원본 리스트 l:\", l)       # [1, 2, 3, 4]\n",
    "print(\"참조한 리스트 la:\", la)   # [1, 2, 3, 4] (la는 l과 동일한 참조)\n",
    "print(\"복사된 리스트 lb:\", lb)   # [1, 2, 3] (lb는 독립적인 리스트)\n",
    "\n",
    "# 튜플 (immutable)\n",
    "t = (1, 2, 3)\n",
    "# t[0] = 10  # 에러: 튜플은 불변(immutable)하기 때문에 요소를 변경할 수 없음\n",
    "\n",
    "print(\"\\n튜플 t:\", t)  # (1, 2, 3)\n",
    "\n",
    "# 슬라이싱 예제 - 리스트는 [::] 형식만 지원\n",
    "matrix = [[0, 1, 2], [3, 4, 5], [6, 7, 8]]\n",
    "\n",
    "# 리스트 슬라이싱 (정상)\n",
    "print(\"\\n리스트 슬라이싱:\")\n",
    "# 행을 역순으로 출력\n",
    "# 열을 역순으로 출력\n",
    "\n",
    "#print(matrix[:1, :1])을 구현하는 리스트 슬라이싱\n",
    "# 첫 번째 행에서 첫 번째 열만 슬라이싱 (== matrix[:1, :1])\n",
    "\n",
    "# 잘못된 슬라이싱 시도 - 튜플로 인식되는 경우\n",
    "try:\n",
    "    print(matrix[::-1,::-1])  # 잘못된 사용, TypeError 발생\n",
    "except TypeError as e:\n",
    "    print(\"\\n에러 발생:\", e)\n",
    "\n",
    "lst1 = [a,b] = [1,2]\n",
    "tpl1 = (c,d) = (3,4)\n",
    "lst1[0] = 5\n",
    "#tpl1[0] = 7\n",
    "print(lst1)\n",
    "print(type(lst1[0]))\n",
    "print(type(tpl1[0]))\n",
    "num = range(10)\n",
    "type(num)\n",
    "num\n",
    "\n",
    "import array ## 파이썬의 배열 , 배열에 배열을 만들 수 없음\n",
    "my_array = array.array('i', [1, 2, 3])  # 'i'는 정수(int)를 의미\n",
    "# 1차원 배열을 리스트로 묶어서 2차원 배열처럼 사용\n",
    "row1 = array.array('i', [1, 2, 3])\n",
    "row2 = array.array('i', [4, 5, 6])\n",
    "row3 = array.array('i', [7, 8, 9])\n",
    "\n",
    "matrix = [row1, row2, row3]  # 리스트로 2차원 배열처럼 표현\n",
    "\n",
    "# 2차원 배열처럼 접근\n",
    "print(matrix[0])     # 첫 번째 행 출력: [1, 2, 3]\n",
    "print(matrix[1][1])  # 두 번째 행의 두 번째 값 출력: 5\n",
    "#matrix[:1,:2] ##  리스트 인덱스는 튜플 사용 안됨\n",
    "### tuple\n",
    "tup = 10,20,30,40\n",
    "#tup[0] = 11\n",
    "print(tup[0])\n",
    "\n",
    "a,b,c = 10,20,30\n",
    "a,b = 11,22\n",
    "a,b = b, a\n",
    "print(f\"a= {a}, b = {b}\")\n",
    "def test():\n",
    "    return 10,20,30\n",
    "\n",
    "x,y,z = test()\n",
    "\n",
    "l = [1, 2, 3]\n",
    "for i, v in enumerate(l):\n",
    "    print(f\"i: {i}, v: {v}\")\n",
    "\n",
    "    # 3x5 행렬 생성\n",
    "matrix = [\n",
    "    [1, 2, 3, 4, 5],\n",
    "    [6, 7, 8, 9, 10],\n",
    "    [11, 12, 13, 14, 15]\n",
    "]\n",
    "\n",
    "print(\"원본 행렬:\")\n",
    "\n",
    "    \n",
    "# 전치 행렬 (행과 열을 뒤바꿈)\n",
    "\n",
    "\n",
    "print(\"\\n전치 행렬:\")\n"
   ]
  },
  {
   "cell_type": "code",
   "execution_count": null,
   "metadata": {},
   "outputs": [],
   "source": [
    "# 리스트[start:stop:step]\n",
    "# start: 시작 인덱스 (포함)\n",
    "# stop: 끝 인덱스 (포함되지 않음)\n",
    "# step: 인덱스 증가 값 (기본값은 1)\n",
    "numbers = [0, 1, 2, 3, 4, 5, 6, 7, 8, 9]\n",
    "# 리스트를 뒤집기\n",
    "\n",
    "reversed_list[0] = 99\n",
    "print(reversed_list)\n",
    "print(numbers)\n",
    "numbers2 = numbers\n",
    "numbers2[0] = 11\n",
    "print(numbers)"
   ]
  },
  {
   "cell_type": "code",
   "execution_count": 1,
   "metadata": {},
   "outputs": [
    {
     "name": "stdout",
     "output_type": "stream",
     "text": [
      "[[1, 2, 3, 4, 5, 6, 7, 8], [9, 10, 11, 12, 13, 14, 15, 16], [17, 18, 19, 20, 21, 22, 23, 24], [25, 26, 27, 28, 29, 30, 31, 32], [33, 34, 35, 36, 37, 38, 39, 40]]\n"
     ]
    }
   ],
   "source": [
    "array = [[] for i in range(5)]  \n",
    "for i in range(5):  \n",
    "    for j in range(1, 9):  \n",
    "        array[i].append(j+8*i)  \n",
    "\n",
    "print(array)"
   ]
  },
  {
   "cell_type": "code",
   "execution_count": null,
   "metadata": {},
   "outputs": [],
   "source": [
    "import random\n",
    "\n",
    "# 행렬의 크기 정의 (5x7 행렬)\n",
    "rows, cols = 5, 7\n",
    "\n",
    "# 2차원 행렬을 난수로 초기화\n",
    "\n",
    "\n",
    "# 행렬 출력\n",
    "\n",
    "\n",
    "# 문제: 각 행에서 최대 값부터 3번째 큰 값까지 순서대로 행렬 만들기\n",
    "## 해법: 전치 행렬 > 열 0은 전치 행렬의 행 0 > 각 행을 정렬 > 3개 최대 값 출력은 슬라이싱으로 해결\n",
    "result_matrix = []\n",
    "\n",
    "for row in matrix:\n",
    "    # 행을 정렬하여 최대 값부터 작은 값으로 정렬\n",
    "    result = row.sort()   #내림차순으로 정렬하려면 option 설정\n",
    " \n",
    "    \n",
    "    # 최대 값부터 3번째 큰 값까지 가져오기\n",
    "    ##slicing으로 문제 풀기\n",
    "  \n",
    "    \n",
    "    # 결과 행렬에 추가\n",
    "\n",
    "\n",
    "# 결과 행렬 출력\n",
    "print(\"\\n결과 행렬 (최대 값부터 3번째 큰 값까지):\")\n",
    "\n"
   ]
  },
  {
   "cell_type": "markdown",
   "metadata": {},
   "source": [
    "행렬 덧셈, 곱셈"
   ]
  },
  {
   "cell_type": "code",
   "execution_count": null,
   "metadata": {},
   "outputs": [],
   "source": [
    "row, col = 5, 7   #tuple(튜플) 사용\n",
    "matrix1 = []   #난수를 사용해서 초기화\n",
    "matrix2 = []\n",
    "\n",
    "##행렬 덧셈\n",
    "result = [[0 for _ in range(cols)] for _ in range(rows)]\n",
    "for i in range(row):\n",
    "  for j in range(col):\n",
    "    result[i][j] = matrix1[i][j]* ...\n",
    "\n",
    "##행렬 곱셈\n",
    "\n"
   ]
  }
 ],
 "metadata": {
  "kernelspec": {
   "display_name": "Python 3",
   "language": "python",
   "name": "python3"
  },
  "language_info": {
   "codemirror_mode": {
    "name": "ipython",
    "version": 3
   },
   "file_extension": ".py",
   "mimetype": "text/x-python",
   "name": "python",
   "nbconvert_exporter": "python",
   "pygments_lexer": "ipython3",
   "version": "3.9.13"
  }
 },
 "nbformat": 4,
 "nbformat_minor": 2
}
