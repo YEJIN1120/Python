{
 "cells": [
  {
   "cell_type": "code",
   "execution_count": 3,
   "metadata": {},
   "outputs": [
    {
     "ename": "IndentationError",
     "evalue": "expected an indented block (1158643954.py, line 17)",
     "output_type": "error",
     "traceback": [
      "\u001b[1;36m  Cell \u001b[1;32mIn[3], line 17\u001b[1;36m\u001b[0m\n\u001b[1;33m    print(\"카테고리별 항목 갯수:\", category_count)\u001b[0m\n\u001b[1;37m    ^\u001b[0m\n\u001b[1;31mIndentationError\u001b[0m\u001b[1;31m:\u001b[0m expected an indented block\n"
     ]
    }
   ],
   "source": [
    "# 딕셔너리 (key: 리스트)\n",
    "data = {\n",
    "    'fruits': ['apple', 'banana', 'orange', 'grape', 'pear'],\n",
    "    'vegetables': ['carrot', 'broccoli', 'spinach'],\n",
    "    'drinks': ['water', 'juice']\n",
    "}\n",
    "\n",
    "# 카테고리별 갯수를 저장할 딕셔너리를 만듬\n",
    "category_count = {}\n",
    "\n",
    "# 항목 갯수 집계\n",
    "for category, items in data.items():\n",
    "    # 카테고리별 갯수를 집계\n",
    "    # 카테고리들의 총 갯수를 집계\n",
    "\n",
    "# 결과 출력\n",
    "print(\"카테고리별 항목 갯수:\", category_count)\n",
    "print(\"카테고리 총 항목수\")"
   ]
  }
 ],
 "metadata": {
  "kernelspec": {
   "display_name": "Python 3",
   "language": "python",
   "name": "python3"
  },
  "language_info": {
   "codemirror_mode": {
    "name": "ipython",
    "version": 3
   },
   "file_extension": ".py",
   "mimetype": "text/x-python",
   "name": "python",
   "nbconvert_exporter": "python",
   "pygments_lexer": "ipython3",
   "version": "3.9.13"
  }
 },
 "nbformat": 4,
 "nbformat_minor": 2
}
